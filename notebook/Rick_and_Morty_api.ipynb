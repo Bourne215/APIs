{
 "cells": [
  {
   "cell_type": "code",
   "execution_count": null,
   "id": "7a4ddce1",
   "metadata": {},
   "outputs": [],
   "source": [
    "import requests\n",
    "import pandas as pd\n",
    "\n",
    "baseurl = 'https://rickandmortyapi.com/api/'\n",
    "\n",
    "endpoint = 'character'\n",
    "\n",
    "def main_request(baseurl, endpoint, x):\n",
    "    r = requests.get(baseurl + endpoint + f'?page{x}')\n",
    "    return r.json()\n",
    "\n",
    "def get_pages(response):\n",
    "    return response['info']['pages']\n",
    "\n",
    "def parse_json(response):\n",
    "    charlist = []\n",
    "    for item in response['results']:\n",
    "        char = {\n",
    "            'id': item['id'],\n",
    "            'name': item['name'],\n",
    "            'no_ep': len(item['episode'])\n",
    "        }\n",
    "\n",
    "        charlist.append(char)\n",
    "    return charlist"
   ]
  },
  {
   "cell_type": "code",
   "execution_count": null,
   "id": "061c178f",
   "metadata": {},
   "outputs": [
    {
     "name": "stdout",
     "output_type": "stream",
     "text": [
      "1\n",
      "2\n",
      "3\n",
      "4\n",
      "5\n",
      "6\n",
      "7\n",
      "8\n",
      "9\n",
      "10\n",
      "11\n",
      "12\n",
      "13\n",
      "14\n",
      "15\n",
      "16\n",
      "17\n",
      "18\n",
      "19\n",
      "20\n",
      "21\n",
      "22\n",
      "23\n",
      "24\n",
      "25\n",
      "26\n",
      "27\n",
      "28\n",
      "29\n",
      "30\n",
      "31\n",
      "32\n",
      "33\n",
      "34\n",
      "35\n",
      "36\n",
      "37\n",
      "38\n",
      "39\n",
      "40\n",
      "41\n",
      "42\n",
      "           name  no_ep\n",
      "0  Rick Sanchez     51\n",
      "1   Morty Smith     51\n",
      "2  Summer Smith     42\n",
      "3    Beth Smith     42\n",
      "4   Jerry Smith     39                         name  no_ep\n",
      "835             Amish Cyborg      1\n",
      "836                    Annie      1\n",
      "837            Antenna Morty      2\n",
      "838             Antenna Rick      1\n",
      "839  Ants in my Eyes Johnson      1\n"
     ]
    }
   ],
   "source": [
    "mainlist = []\n",
    "data = main_request(baseurl, endpoint, 1)\n",
    "for x in range(1,get_pages(data)+1):\n",
    "    print(x)\n",
    "    mainlist.extend(parse_json(main_request(baseurl, endpoint, x)))\n",
    "\n",
    "pickle_rick_df = pd.DataFrame(mainlist)\n",
    "#I know pickle_rick_df is too long, but I'm just keeping with theme!\n",
    "pickle_rick_df.to_csv('charlist.csv', index=False)"
   ]
  },
  {
   "cell_type": "code",
   "execution_count": null,
   "id": "afffc506",
   "metadata": {},
   "outputs": [],
   "source": []
  }
 ],
 "metadata": {
  "kernelspec": {
   "display_name": "Python 3",
   "language": "python",
   "name": "python3"
  },
  "language_info": {
   "codemirror_mode": {
    "name": "ipython",
    "version": 3
   },
   "file_extension": ".py",
   "mimetype": "text/x-python",
   "name": "python",
   "nbconvert_exporter": "python",
   "pygments_lexer": "ipython3",
   "version": "3.13.5"
  }
 },
 "nbformat": 4,
 "nbformat_minor": 5
}
