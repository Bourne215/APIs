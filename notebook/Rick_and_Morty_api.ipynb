{
 "cells": [
  {
   "cell_type": "code",
   "execution_count": 19,
   "id": "7a4ddce1",
   "metadata": {},
   "outputs": [],
   "source": [
    "import requests\n",
    "\n",
    "baseurl = 'https://rickandmortyapi.com/api/'\n",
    "\n",
    "endpoint = 'character'\n",
    "\n",
    "def main_requests(baseurl, endpoint):\n",
    "    r = requests.get(baseurl + endpoint)\n",
    "    return r.json()\n",
    "\n",
    "def get_pages(response):\n",
    "    return response['info']['pages']\n",
    "\n",
    "def parse_json(response):\n",
    "    for item in response['results']:\n",
    "        char = {\n",
    "            'name': item['name'],\n",
    "            'no_ep': len(item['episode'])\n",
    "        }\n",
    "    return"
   ]
  },
  {
   "cell_type": "code",
   "execution_count": 18,
   "id": "061c178f",
   "metadata": {},
   "outputs": [
    {
     "name": "stdout",
     "output_type": "stream",
     "text": [
      "42\n",
      "Rick Sanchez 51\n",
      "Morty Smith 51\n",
      "Summer Smith 42\n",
      "Beth Smith 42\n",
      "Jerry Smith 39\n",
      "Abadango Cluster Princess 1\n",
      "Abradolf Lincler 2\n",
      "Adjudicator Rick 1\n",
      "Agency Director 1\n",
      "Alan Rails 1\n",
      "Albert Einstein 1\n",
      "Alexander 1\n",
      "Alien Googah 1\n",
      "Alien Morty 1\n",
      "Alien Rick 1\n",
      "Amish Cyborg 1\n",
      "Annie 1\n",
      "Antenna Morty 2\n",
      "Antenna Rick 1\n",
      "Ants in my Eyes Johnson 1\n"
     ]
    }
   ],
   "source": [
    "data = main_requests(baseurl, endpoint)\n",
    "print(get_pages(data))\n",
    "parse_json(data)\n"
   ]
  },
  {
   "cell_type": "code",
   "execution_count": null,
   "id": "afffc506",
   "metadata": {},
   "outputs": [],
   "source": []
  }
 ],
 "metadata": {
  "kernelspec": {
   "display_name": "Python 3",
   "language": "python",
   "name": "python3"
  },
  "language_info": {
   "codemirror_mode": {
    "name": "ipython",
    "version": 3
   },
   "file_extension": ".py",
   "mimetype": "text/x-python",
   "name": "python",
   "nbconvert_exporter": "python",
   "pygments_lexer": "ipython3",
   "version": "3.13.5"
  }
 },
 "nbformat": 4,
 "nbformat_minor": 5
}
