{
 "cells": [
  {
   "cell_type": "code",
   "execution_count": 14,
   "id": "7a4ddce1",
   "metadata": {},
   "outputs": [],
   "source": [
    "import requests\n",
    "\n",
    "baseurl = 'https://rickandmortyapi.com/api/'\n",
    "\n",
    "endpoint = 'character'\n",
    "\n",
    "def main_requests(baseurl, endpoint):\n",
    "    r = requests.get(baseurl + endpoint)\n",
    "    return r.json()\n",
    "\n",
    "def get_pages(response):\n",
    "    return response['info']['pages']"
   ]
  },
  {
   "cell_type": "code",
   "execution_count": 15,
   "id": "061c178f",
   "metadata": {},
   "outputs": [
    {
     "name": "stdout",
     "output_type": "stream",
     "text": [
      "42\n",
      "Rick Sanchez\n"
     ]
    }
   ],
   "source": [
    "data = main_requests(baseurl, endpoint)\n",
    "print(get_pages(data))\n",
    "name = data['results'][0]['name']\n",
    "episode = data['results'][0]['episode']\n",
    "\n",
    "print(name)"
   ]
  },
  {
   "cell_type": "code",
   "execution_count": null,
   "id": "afffc506",
   "metadata": {},
   "outputs": [],
   "source": []
  }
 ],
 "metadata": {
  "kernelspec": {
   "display_name": "Python 3",
   "language": "python",
   "name": "python3"
  },
  "language_info": {
   "codemirror_mode": {
    "name": "ipython",
    "version": 3
   },
   "file_extension": ".py",
   "mimetype": "text/x-python",
   "name": "python",
   "nbconvert_exporter": "python",
   "pygments_lexer": "ipython3",
   "version": "3.13.5"
  }
 },
 "nbformat": 4,
 "nbformat_minor": 5
}
